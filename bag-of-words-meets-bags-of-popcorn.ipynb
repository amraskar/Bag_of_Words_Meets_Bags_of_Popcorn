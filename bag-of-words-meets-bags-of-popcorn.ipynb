{
 "cells": [
  {
   "cell_type": "code",
   "execution_count": 1,
   "id": "370d0364",
   "metadata": {
    "ExecuteTime": {
     "end_time": "2023-08-09T20:56:04.558445300Z",
     "start_time": "2023-08-09T20:56:04.494865800Z"
    },
    "execution": {
     "iopub.execute_input": "2023-08-09T21:01:27.744029Z",
     "iopub.status.busy": "2023-08-09T21:01:27.743534Z",
     "iopub.status.idle": "2023-08-09T21:01:29.050253Z",
     "shell.execute_reply": "2023-08-09T21:01:29.049102Z"
    },
    "papermill": {
     "duration": 1.321062,
     "end_time": "2023-08-09T21:01:29.052933",
     "exception": false,
     "start_time": "2023-08-09T21:01:27.731871",
     "status": "completed"
    },
    "tags": []
   },
   "outputs": [
    {
     "name": "stderr",
     "output_type": "stream",
     "text": [
      "/opt/conda/lib/python3.10/site-packages/scipy/__init__.py:146: UserWarning: A NumPy version >=1.16.5 and <1.23.0 is required for this version of SciPy (detected version 1.23.5\n",
      "  warnings.warn(f\"A NumPy version >={np_minversion} and <{np_maxversion}\"\n"
     ]
    }
   ],
   "source": [
    "import pandas as pd\n",
    "from sklearn.feature_extraction.text import TfidfVectorizer\n",
    "from sklearn.linear_model import LogisticRegression"
   ]
  },
  {
   "cell_type": "markdown",
   "id": "716745b8",
   "metadata": {
    "papermill": {
     "duration": 0.007094,
     "end_time": "2023-08-09T21:01:29.068040",
     "exception": false,
     "start_time": "2023-08-09T21:01:29.060946",
     "status": "completed"
    },
    "tags": []
   },
   "source": [
    "Importing The Data"
   ]
  },
  {
   "cell_type": "code",
   "execution_count": 2,
   "id": "6bc80255",
   "metadata": {
    "ExecuteTime": {
     "end_time": "2023-08-09T20:56:04.999294300Z",
     "start_time": "2023-08-09T20:56:04.502933Z"
    },
    "collapsed": false,
    "execution": {
     "iopub.execute_input": "2023-08-09T21:01:29.084570Z",
     "iopub.status.busy": "2023-08-09T21:01:29.084037Z",
     "iopub.status.idle": "2023-08-09T21:01:29.924241Z",
     "shell.execute_reply": "2023-08-09T21:01:29.923159Z"
    },
    "jupyter": {
     "outputs_hidden": false
    },
    "papermill": {
     "duration": 0.851514,
     "end_time": "2023-08-09T21:01:29.926896",
     "exception": false,
     "start_time": "2023-08-09T21:01:29.075382",
     "status": "completed"
    },
    "tags": []
   },
   "outputs": [
    {
     "data": {
      "text/html": [
       "<div>\n",
       "<style scoped>\n",
       "    .dataframe tbody tr th:only-of-type {\n",
       "        vertical-align: middle;\n",
       "    }\n",
       "\n",
       "    .dataframe tbody tr th {\n",
       "        vertical-align: top;\n",
       "    }\n",
       "\n",
       "    .dataframe thead th {\n",
       "        text-align: right;\n",
       "    }\n",
       "</style>\n",
       "<table border=\"1\" class=\"dataframe\">\n",
       "  <thead>\n",
       "    <tr style=\"text-align: right;\">\n",
       "      <th></th>\n",
       "      <th>id</th>\n",
       "      <th>sentiment</th>\n",
       "      <th>review</th>\n",
       "    </tr>\n",
       "  </thead>\n",
       "  <tbody>\n",
       "    <tr>\n",
       "      <th>0</th>\n",
       "      <td>5814_8</td>\n",
       "      <td>1</td>\n",
       "      <td>With all this stuff going down at the moment w...</td>\n",
       "    </tr>\n",
       "    <tr>\n",
       "      <th>1</th>\n",
       "      <td>2381_9</td>\n",
       "      <td>1</td>\n",
       "      <td>\\The Classic War of the Worlds\\\" by Timothy Hi...</td>\n",
       "    </tr>\n",
       "    <tr>\n",
       "      <th>2</th>\n",
       "      <td>7759_3</td>\n",
       "      <td>0</td>\n",
       "      <td>The film starts with a manager (Nicholas Bell)...</td>\n",
       "    </tr>\n",
       "    <tr>\n",
       "      <th>3</th>\n",
       "      <td>3630_4</td>\n",
       "      <td>0</td>\n",
       "      <td>It must be assumed that those who praised this...</td>\n",
       "    </tr>\n",
       "    <tr>\n",
       "      <th>4</th>\n",
       "      <td>9495_8</td>\n",
       "      <td>1</td>\n",
       "      <td>Superbly trashy and wondrously unpretentious 8...</td>\n",
       "    </tr>\n",
       "  </tbody>\n",
       "</table>\n",
       "</div>"
      ],
      "text/plain": [
       "       id  sentiment                                             review\n",
       "0  5814_8          1  With all this stuff going down at the moment w...\n",
       "1  2381_9          1  \\The Classic War of the Worlds\\\" by Timothy Hi...\n",
       "2  7759_3          0  The film starts with a manager (Nicholas Bell)...\n",
       "3  3630_4          0  It must be assumed that those who praised this...\n",
       "4  9495_8          1  Superbly trashy and wondrously unpretentious 8..."
      ]
     },
     "execution_count": 2,
     "metadata": {},
     "output_type": "execute_result"
    }
   ],
   "source": [
    "train = pd.read_csv('/kaggle/input/word2vec-nlp-tutorial/labeledTrainData.tsv.zip', sep='\\t')\n",
    "train.head()"
   ]
  },
  {
   "cell_type": "code",
   "execution_count": 3,
   "id": "4276c3b5",
   "metadata": {
    "ExecuteTime": {
     "end_time": "2023-08-09T20:56:05.464802900Z",
     "start_time": "2023-08-09T20:56:04.999294300Z"
    },
    "collapsed": false,
    "execution": {
     "iopub.execute_input": "2023-08-09T21:01:29.943917Z",
     "iopub.status.busy": "2023-08-09T21:01:29.943499Z",
     "iopub.status.idle": "2023-08-09T21:01:30.684756Z",
     "shell.execute_reply": "2023-08-09T21:01:30.683605Z"
    },
    "jupyter": {
     "outputs_hidden": false
    },
    "papermill": {
     "duration": 0.752934,
     "end_time": "2023-08-09T21:01:30.687632",
     "exception": false,
     "start_time": "2023-08-09T21:01:29.934698",
     "status": "completed"
    },
    "tags": []
   },
   "outputs": [
    {
     "data": {
      "text/html": [
       "<div>\n",
       "<style scoped>\n",
       "    .dataframe tbody tr th:only-of-type {\n",
       "        vertical-align: middle;\n",
       "    }\n",
       "\n",
       "    .dataframe tbody tr th {\n",
       "        vertical-align: top;\n",
       "    }\n",
       "\n",
       "    .dataframe thead th {\n",
       "        text-align: right;\n",
       "    }\n",
       "</style>\n",
       "<table border=\"1\" class=\"dataframe\">\n",
       "  <thead>\n",
       "    <tr style=\"text-align: right;\">\n",
       "      <th></th>\n",
       "      <th>id</th>\n",
       "      <th>review</th>\n",
       "    </tr>\n",
       "  </thead>\n",
       "  <tbody>\n",
       "    <tr>\n",
       "      <th>0</th>\n",
       "      <td>12311_10</td>\n",
       "      <td>Naturally in a film who's main themes are of m...</td>\n",
       "    </tr>\n",
       "    <tr>\n",
       "      <th>1</th>\n",
       "      <td>8348_2</td>\n",
       "      <td>This movie is a disaster within a disaster fil...</td>\n",
       "    </tr>\n",
       "    <tr>\n",
       "      <th>2</th>\n",
       "      <td>5828_4</td>\n",
       "      <td>All in all, this is a movie for kids. We saw i...</td>\n",
       "    </tr>\n",
       "    <tr>\n",
       "      <th>3</th>\n",
       "      <td>7186_2</td>\n",
       "      <td>Afraid of the Dark left me with the impression...</td>\n",
       "    </tr>\n",
       "    <tr>\n",
       "      <th>4</th>\n",
       "      <td>12128_7</td>\n",
       "      <td>A very accurate depiction of small time mob li...</td>\n",
       "    </tr>\n",
       "  </tbody>\n",
       "</table>\n",
       "</div>"
      ],
      "text/plain": [
       "         id                                             review\n",
       "0  12311_10  Naturally in a film who's main themes are of m...\n",
       "1    8348_2  This movie is a disaster within a disaster fil...\n",
       "2    5828_4  All in all, this is a movie for kids. We saw i...\n",
       "3    7186_2  Afraid of the Dark left me with the impression...\n",
       "4   12128_7  A very accurate depiction of small time mob li..."
      ]
     },
     "execution_count": 3,
     "metadata": {},
     "output_type": "execute_result"
    }
   ],
   "source": [
    "test = pd.read_csv('/kaggle/input/word2vec-nlp-tutorial/testData.tsv.zip', sep='\\t')\n",
    "test.head()"
   ]
  },
  {
   "cell_type": "markdown",
   "id": "7b39e2cc",
   "metadata": {
    "papermill": {
     "duration": 0.010888,
     "end_time": "2023-08-09T21:01:30.710295",
     "exception": false,
     "start_time": "2023-08-09T21:01:30.699407",
     "status": "completed"
    },
    "tags": []
   },
   "source": [
    "Exploring The Data"
   ]
  },
  {
   "cell_type": "code",
   "execution_count": 4,
   "id": "5bcf87b8",
   "metadata": {
    "ExecuteTime": {
     "end_time": "2023-08-09T20:56:05.464802900Z",
     "start_time": "2023-08-09T20:56:05.461344100Z"
    },
    "collapsed": false,
    "execution": {
     "iopub.execute_input": "2023-08-09T21:01:30.728004Z",
     "iopub.status.busy": "2023-08-09T21:01:30.727174Z",
     "iopub.status.idle": "2023-08-09T21:01:30.735043Z",
     "shell.execute_reply": "2023-08-09T21:01:30.734049Z"
    },
    "jupyter": {
     "outputs_hidden": false
    },
    "papermill": {
     "duration": 0.019023,
     "end_time": "2023-08-09T21:01:30.737105",
     "exception": false,
     "start_time": "2023-08-09T21:01:30.718082",
     "status": "completed"
    },
    "tags": []
   },
   "outputs": [
    {
     "data": {
      "text/plain": [
       "(25000, 3)"
      ]
     },
     "execution_count": 4,
     "metadata": {},
     "output_type": "execute_result"
    }
   ],
   "source": [
    "train.shape"
   ]
  },
  {
   "cell_type": "code",
   "execution_count": 5,
   "id": "38f5f99a",
   "metadata": {
    "ExecuteTime": {
     "end_time": "2023-08-09T20:56:05.486101Z",
     "start_time": "2023-08-09T20:56:05.464802900Z"
    },
    "collapsed": false,
    "execution": {
     "iopub.execute_input": "2023-08-09T21:01:30.756878Z",
     "iopub.status.busy": "2023-08-09T21:01:30.756028Z",
     "iopub.status.idle": "2023-08-09T21:01:30.809120Z",
     "shell.execute_reply": "2023-08-09T21:01:30.807606Z"
    },
    "jupyter": {
     "outputs_hidden": false
    },
    "papermill": {
     "duration": 0.066881,
     "end_time": "2023-08-09T21:01:30.812362",
     "exception": false,
     "start_time": "2023-08-09T21:01:30.745481",
     "status": "completed"
    },
    "tags": []
   },
   "outputs": [
    {
     "name": "stdout",
     "output_type": "stream",
     "text": [
      "<class 'pandas.core.frame.DataFrame'>\n",
      "RangeIndex: 25000 entries, 0 to 24999\n",
      "Data columns (total 3 columns):\n",
      " #   Column     Non-Null Count  Dtype \n",
      "---  ------     --------------  ----- \n",
      " 0   id         25000 non-null  object\n",
      " 1   sentiment  25000 non-null  int64 \n",
      " 2   review     25000 non-null  object\n",
      "dtypes: int64(1), object(2)\n",
      "memory usage: 586.1+ KB\n"
     ]
    }
   ],
   "source": [
    "train.info()"
   ]
  },
  {
   "cell_type": "code",
   "execution_count": 6,
   "id": "8f069927",
   "metadata": {
    "ExecuteTime": {
     "end_time": "2023-08-09T20:56:05.738494100Z",
     "start_time": "2023-08-09T20:56:05.479593700Z"
    },
    "collapsed": false,
    "execution": {
     "iopub.execute_input": "2023-08-09T21:01:30.834122Z",
     "iopub.status.busy": "2023-08-09T21:01:30.833717Z",
     "iopub.status.idle": "2023-08-09T21:01:30.906879Z",
     "shell.execute_reply": "2023-08-09T21:01:30.905610Z"
    },
    "jupyter": {
     "outputs_hidden": false
    },
    "papermill": {
     "duration": 0.08502,
     "end_time": "2023-08-09T21:01:30.909345",
     "exception": false,
     "start_time": "2023-08-09T21:01:30.824325",
     "status": "completed"
    },
    "tags": []
   },
   "outputs": [
    {
     "data": {
      "text/html": [
       "<div>\n",
       "<style scoped>\n",
       "    .dataframe tbody tr th:only-of-type {\n",
       "        vertical-align: middle;\n",
       "    }\n",
       "\n",
       "    .dataframe tbody tr th {\n",
       "        vertical-align: top;\n",
       "    }\n",
       "\n",
       "    .dataframe thead th {\n",
       "        text-align: right;\n",
       "    }\n",
       "</style>\n",
       "<table border=\"1\" class=\"dataframe\">\n",
       "  <thead>\n",
       "    <tr style=\"text-align: right;\">\n",
       "      <th></th>\n",
       "      <th>id</th>\n",
       "      <th>review</th>\n",
       "    </tr>\n",
       "  </thead>\n",
       "  <tbody>\n",
       "    <tr>\n",
       "      <th>count</th>\n",
       "      <td>25000</td>\n",
       "      <td>25000</td>\n",
       "    </tr>\n",
       "    <tr>\n",
       "      <th>unique</th>\n",
       "      <td>25000</td>\n",
       "      <td>24904</td>\n",
       "    </tr>\n",
       "    <tr>\n",
       "      <th>top</th>\n",
       "      <td>5814_8</td>\n",
       "      <td>When i got this movie free from my job, along ...</td>\n",
       "    </tr>\n",
       "    <tr>\n",
       "      <th>freq</th>\n",
       "      <td>1</td>\n",
       "      <td>3</td>\n",
       "    </tr>\n",
       "  </tbody>\n",
       "</table>\n",
       "</div>"
      ],
      "text/plain": [
       "            id                                             review\n",
       "count    25000                                              25000\n",
       "unique   25000                                              24904\n",
       "top     5814_8  When i got this movie free from my job, along ...\n",
       "freq         1                                                  3"
      ]
     },
     "execution_count": 6,
     "metadata": {},
     "output_type": "execute_result"
    }
   ],
   "source": [
    "train.select_dtypes('object').describe()"
   ]
  },
  {
   "cell_type": "markdown",
   "id": "ccd565db",
   "metadata": {
    "papermill": {
     "duration": 0.00777,
     "end_time": "2023-08-09T21:01:30.925123",
     "exception": false,
     "start_time": "2023-08-09T21:01:30.917353",
     "status": "completed"
    },
    "tags": []
   },
   "source": [
    "Checking NULL and Duplicated Values"
   ]
  },
  {
   "cell_type": "code",
   "execution_count": 7,
   "id": "59a44efb",
   "metadata": {
    "ExecuteTime": {
     "end_time": "2023-08-09T20:56:05.738494100Z",
     "start_time": "2023-08-09T20:56:05.597367700Z"
    },
    "collapsed": false,
    "execution": {
     "iopub.execute_input": "2023-08-09T21:01:30.942689Z",
     "iopub.status.busy": "2023-08-09T21:01:30.942289Z",
     "iopub.status.idle": "2023-08-09T21:01:30.962216Z",
     "shell.execute_reply": "2023-08-09T21:01:30.961014Z"
    },
    "jupyter": {
     "outputs_hidden": false
    },
    "papermill": {
     "duration": 0.031764,
     "end_time": "2023-08-09T21:01:30.964822",
     "exception": false,
     "start_time": "2023-08-09T21:01:30.933058",
     "status": "completed"
    },
    "tags": []
   },
   "outputs": [
    {
     "data": {
      "text/plain": [
       "0"
      ]
     },
     "execution_count": 7,
     "metadata": {},
     "output_type": "execute_result"
    }
   ],
   "source": [
    "train.isnull().sum().sum()"
   ]
  },
  {
   "cell_type": "code",
   "execution_count": 8,
   "id": "242fa11e",
   "metadata": {
    "ExecuteTime": {
     "end_time": "2023-08-09T20:56:05.738494100Z",
     "start_time": "2023-08-09T20:56:05.597367700Z"
    },
    "collapsed": false,
    "execution": {
     "iopub.execute_input": "2023-08-09T21:01:30.983331Z",
     "iopub.status.busy": "2023-08-09T21:01:30.982597Z",
     "iopub.status.idle": "2023-08-09T21:01:31.092549Z",
     "shell.execute_reply": "2023-08-09T21:01:31.091352Z"
    },
    "jupyter": {
     "outputs_hidden": false
    },
    "papermill": {
     "duration": 0.121847,
     "end_time": "2023-08-09T21:01:31.094854",
     "exception": false,
     "start_time": "2023-08-09T21:01:30.973007",
     "status": "completed"
    },
    "tags": []
   },
   "outputs": [
    {
     "data": {
      "text/plain": [
       "0"
      ]
     },
     "execution_count": 8,
     "metadata": {},
     "output_type": "execute_result"
    }
   ],
   "source": [
    "train.duplicated().sum()"
   ]
  },
  {
   "cell_type": "markdown",
   "id": "624d69f3",
   "metadata": {
    "papermill": {
     "duration": 0.009759,
     "end_time": "2023-08-09T21:01:31.112954",
     "exception": false,
     "start_time": "2023-08-09T21:01:31.103195",
     "status": "completed"
    },
    "tags": []
   },
   "source": [
    "Droping ID Column"
   ]
  },
  {
   "cell_type": "code",
   "execution_count": 9,
   "id": "57b0c420",
   "metadata": {
    "ExecuteTime": {
     "end_time": "2023-08-09T20:56:05.738494100Z",
     "start_time": "2023-08-09T20:56:05.681602900Z"
    },
    "collapsed": false,
    "execution": {
     "iopub.execute_input": "2023-08-09T21:01:31.132498Z",
     "iopub.status.busy": "2023-08-09T21:01:31.131764Z",
     "iopub.status.idle": "2023-08-09T21:01:31.140835Z",
     "shell.execute_reply": "2023-08-09T21:01:31.139746Z"
    },
    "jupyter": {
     "outputs_hidden": false
    },
    "papermill": {
     "duration": 0.021675,
     "end_time": "2023-08-09T21:01:31.143431",
     "exception": false,
     "start_time": "2023-08-09T21:01:31.121756",
     "status": "completed"
    },
    "tags": []
   },
   "outputs": [],
   "source": [
    "train.drop('id', axis=1, inplace=True)"
   ]
  },
  {
   "cell_type": "code",
   "execution_count": 10,
   "id": "9dc875fb",
   "metadata": {
    "ExecuteTime": {
     "end_time": "2023-08-09T20:56:05.754116100Z",
     "start_time": "2023-08-09T20:56:05.690798400Z"
    },
    "collapsed": false,
    "execution": {
     "iopub.execute_input": "2023-08-09T21:01:31.163131Z",
     "iopub.status.busy": "2023-08-09T21:01:31.162281Z",
     "iopub.status.idle": "2023-08-09T21:01:31.168334Z",
     "shell.execute_reply": "2023-08-09T21:01:31.167449Z"
    },
    "jupyter": {
     "outputs_hidden": false
    },
    "papermill": {
     "duration": 0.01834,
     "end_time": "2023-08-09T21:01:31.170455",
     "exception": false,
     "start_time": "2023-08-09T21:01:31.152115",
     "status": "completed"
    },
    "tags": []
   },
   "outputs": [],
   "source": [
    "submission = pd.DataFrame({'id': test['id']})"
   ]
  },
  {
   "cell_type": "code",
   "execution_count": 11,
   "id": "8d6d8692",
   "metadata": {
    "ExecuteTime": {
     "end_time": "2023-08-09T20:56:05.754116100Z",
     "start_time": "2023-08-09T20:56:05.697379400Z"
    },
    "collapsed": false,
    "execution": {
     "iopub.execute_input": "2023-08-09T21:01:31.189344Z",
     "iopub.status.busy": "2023-08-09T21:01:31.188722Z",
     "iopub.status.idle": "2023-08-09T21:01:31.195266Z",
     "shell.execute_reply": "2023-08-09T21:01:31.194064Z"
    },
    "jupyter": {
     "outputs_hidden": false
    },
    "papermill": {
     "duration": 0.018596,
     "end_time": "2023-08-09T21:01:31.197467",
     "exception": false,
     "start_time": "2023-08-09T21:01:31.178871",
     "status": "completed"
    },
    "tags": []
   },
   "outputs": [],
   "source": [
    "test.drop('id', axis=1, inplace=True)"
   ]
  },
  {
   "cell_type": "markdown",
   "id": "a12579ac",
   "metadata": {
    "papermill": {
     "duration": 0.007975,
     "end_time": "2023-08-09T21:01:31.213842",
     "exception": false,
     "start_time": "2023-08-09T21:01:31.205867",
     "status": "completed"
    },
    "tags": []
   },
   "source": [
    "Splitting The Training Data"
   ]
  },
  {
   "cell_type": "code",
   "execution_count": 12,
   "id": "fab8c1d4",
   "metadata": {
    "ExecuteTime": {
     "end_time": "2023-08-09T20:56:05.769736Z",
     "start_time": "2023-08-09T20:56:05.706895100Z"
    },
    "collapsed": false,
    "execution": {
     "iopub.execute_input": "2023-08-09T21:01:31.232166Z",
     "iopub.status.busy": "2023-08-09T21:01:31.231805Z",
     "iopub.status.idle": "2023-08-09T21:01:31.237936Z",
     "shell.execute_reply": "2023-08-09T21:01:31.236892Z"
    },
    "jupyter": {
     "outputs_hidden": false
    },
    "papermill": {
     "duration": 0.017885,
     "end_time": "2023-08-09T21:01:31.240005",
     "exception": false,
     "start_time": "2023-08-09T21:01:31.222120",
     "status": "completed"
    },
    "tags": []
   },
   "outputs": [],
   "source": [
    "X = train['review'].copy()\n",
    "y = train['sentiment'].copy()"
   ]
  },
  {
   "cell_type": "markdown",
   "id": "0bf95b1e",
   "metadata": {
    "papermill": {
     "duration": 0.008203,
     "end_time": "2023-08-09T21:01:31.256852",
     "exception": false,
     "start_time": "2023-08-09T21:01:31.248649",
     "status": "completed"
    },
    "tags": []
   },
   "source": [
    "Vectorizer"
   ]
  },
  {
   "cell_type": "code",
   "execution_count": 13,
   "id": "74f7a5d5",
   "metadata": {
    "ExecuteTime": {
     "end_time": "2023-08-09T20:56:13.878916900Z",
     "start_time": "2023-08-09T20:56:05.712362900Z"
    },
    "collapsed": false,
    "execution": {
     "iopub.execute_input": "2023-08-09T21:01:31.275081Z",
     "iopub.status.busy": "2023-08-09T21:01:31.274721Z",
     "iopub.status.idle": "2023-08-09T21:01:40.905039Z",
     "shell.execute_reply": "2023-08-09T21:01:40.903567Z"
    },
    "jupyter": {
     "outputs_hidden": false
    },
    "papermill": {
     "duration": 9.642334,
     "end_time": "2023-08-09T21:01:40.907407",
     "exception": false,
     "start_time": "2023-08-09T21:01:31.265073",
     "status": "completed"
    },
    "tags": []
   },
   "outputs": [],
   "source": [
    "tfidf_vectorizer = TfidfVectorizer(stop_words='english', max_df=0.7)\n",
    "X_prepared = tfidf_vectorizer.fit_transform(X)\n",
    "test_prepared = tfidf_vectorizer.fit_transform(test['review'])"
   ]
  },
  {
   "cell_type": "code",
   "execution_count": 14,
   "id": "da7ba9a0",
   "metadata": {
    "ExecuteTime": {
     "end_time": "2023-08-09T20:56:13.887131900Z",
     "start_time": "2023-08-09T20:56:13.878916900Z"
    },
    "collapsed": false,
    "execution": {
     "iopub.execute_input": "2023-08-09T21:01:40.928837Z",
     "iopub.status.busy": "2023-08-09T21:01:40.928101Z",
     "iopub.status.idle": "2023-08-09T21:01:40.935698Z",
     "shell.execute_reply": "2023-08-09T21:01:40.934571Z"
    },
    "jupyter": {
     "outputs_hidden": false
    },
    "papermill": {
     "duration": 0.021033,
     "end_time": "2023-08-09T21:01:40.937803",
     "exception": false,
     "start_time": "2023-08-09T21:01:40.916770",
     "status": "completed"
    },
    "tags": []
   },
   "outputs": [
    {
     "data": {
      "text/plain": [
       "(25000, 74538)"
      ]
     },
     "execution_count": 14,
     "metadata": {},
     "output_type": "execute_result"
    }
   ],
   "source": [
    "X_prepared.shape"
   ]
  },
  {
   "cell_type": "code",
   "execution_count": 15,
   "id": "51de568a",
   "metadata": {
    "ExecuteTime": {
     "end_time": "2023-08-09T20:56:13.895496400Z",
     "start_time": "2023-08-09T20:56:13.887131900Z"
    },
    "collapsed": false,
    "execution": {
     "iopub.execute_input": "2023-08-09T21:01:40.957299Z",
     "iopub.status.busy": "2023-08-09T21:01:40.956908Z",
     "iopub.status.idle": "2023-08-09T21:01:40.963807Z",
     "shell.execute_reply": "2023-08-09T21:01:40.962716Z"
    },
    "jupyter": {
     "outputs_hidden": false
    },
    "papermill": {
     "duration": 0.018729,
     "end_time": "2023-08-09T21:01:40.965962",
     "exception": false,
     "start_time": "2023-08-09T21:01:40.947233",
     "status": "completed"
    },
    "tags": []
   },
   "outputs": [
    {
     "data": {
      "text/plain": [
       "(25000, 73511)"
      ]
     },
     "execution_count": 15,
     "metadata": {},
     "output_type": "execute_result"
    }
   ],
   "source": [
    "test_prepared.shape"
   ]
  },
  {
   "cell_type": "code",
   "execution_count": 16,
   "id": "0766a8d4",
   "metadata": {
    "ExecuteTime": {
     "end_time": "2023-08-09T20:56:13.959606100Z",
     "start_time": "2023-08-09T20:56:13.895496400Z"
    },
    "collapsed": false,
    "execution": {
     "iopub.execute_input": "2023-08-09T21:01:40.988386Z",
     "iopub.status.busy": "2023-08-09T21:01:40.987742Z",
     "iopub.status.idle": "2023-08-09T21:01:41.028573Z",
     "shell.execute_reply": "2023-08-09T21:01:41.027331Z"
    },
    "jupyter": {
     "outputs_hidden": false
    },
    "papermill": {
     "duration": 0.056651,
     "end_time": "2023-08-09T21:01:41.031199",
     "exception": false,
     "start_time": "2023-08-09T21:01:40.974548",
     "status": "completed"
    },
    "tags": []
   },
   "outputs": [],
   "source": [
    "X_prepared = X_prepared[:, :test_prepared.shape[1]]"
   ]
  },
  {
   "cell_type": "markdown",
   "id": "48f55186",
   "metadata": {
    "papermill": {
     "duration": 0.008583,
     "end_time": "2023-08-09T21:01:41.048924",
     "exception": false,
     "start_time": "2023-08-09T21:01:41.040341",
     "status": "completed"
    },
    "tags": []
   },
   "source": [
    "Logistic Regression"
   ]
  },
  {
   "cell_type": "code",
   "execution_count": 17,
   "id": "c8b6c83a",
   "metadata": {
    "ExecuteTime": {
     "end_time": "2023-08-09T20:56:15.449206400Z",
     "start_time": "2023-08-09T20:56:13.923592800Z"
    },
    "collapsed": false,
    "execution": {
     "iopub.execute_input": "2023-08-09T21:01:41.067487Z",
     "iopub.status.busy": "2023-08-09T21:01:41.067106Z",
     "iopub.status.idle": "2023-08-09T21:01:44.694729Z",
     "shell.execute_reply": "2023-08-09T21:01:44.693291Z"
    },
    "jupyter": {
     "outputs_hidden": false
    },
    "papermill": {
     "duration": 3.64073,
     "end_time": "2023-08-09T21:01:44.698107",
     "exception": false,
     "start_time": "2023-08-09T21:01:41.057377",
     "status": "completed"
    },
    "tags": []
   },
   "outputs": [],
   "source": [
    "model = LogisticRegression()\n",
    "model.fit(X_prepared, y)\n",
    "y_predict = model.predict(test_prepared)"
   ]
  },
  {
   "cell_type": "code",
   "execution_count": 18,
   "id": "320984e3",
   "metadata": {
    "ExecuteTime": {
     "end_time": "2023-08-09T20:56:15.476238900Z",
     "start_time": "2023-08-09T20:56:15.452212400Z"
    },
    "collapsed": false,
    "execution": {
     "iopub.execute_input": "2023-08-09T21:01:44.756702Z",
     "iopub.status.busy": "2023-08-09T21:01:44.755905Z",
     "iopub.status.idle": "2023-08-09T21:01:44.777887Z",
     "shell.execute_reply": "2023-08-09T21:01:44.776994Z"
    },
    "jupyter": {
     "outputs_hidden": false
    },
    "papermill": {
     "duration": 0.060424,
     "end_time": "2023-08-09T21:01:44.779906",
     "exception": false,
     "start_time": "2023-08-09T21:01:44.719482",
     "status": "completed"
    },
    "tags": []
   },
   "outputs": [
    {
     "data": {
      "text/plain": [
       "0.937"
      ]
     },
     "execution_count": 18,
     "metadata": {},
     "output_type": "execute_result"
    }
   ],
   "source": [
    "model.score(X_prepared, y)"
   ]
  },
  {
   "cell_type": "code",
   "execution_count": 19,
   "id": "d7abc73c",
   "metadata": {
    "ExecuteTime": {
     "end_time": "2023-08-09T20:56:15.508273900Z",
     "start_time": "2023-08-09T20:56:15.467800100Z"
    },
    "collapsed": false,
    "execution": {
     "iopub.execute_input": "2023-08-09T21:01:44.799060Z",
     "iopub.status.busy": "2023-08-09T21:01:44.798341Z",
     "iopub.status.idle": "2023-08-09T21:01:44.803156Z",
     "shell.execute_reply": "2023-08-09T21:01:44.802370Z"
    },
    "jupyter": {
     "outputs_hidden": false
    },
    "papermill": {
     "duration": 0.016658,
     "end_time": "2023-08-09T21:01:44.805241",
     "exception": false,
     "start_time": "2023-08-09T21:01:44.788583",
     "status": "completed"
    },
    "tags": []
   },
   "outputs": [],
   "source": [
    "submission['sentiment'] = y_predict"
   ]
  },
  {
   "cell_type": "code",
   "execution_count": 20,
   "id": "d4d3c1b5",
   "metadata": {
    "ExecuteTime": {
     "end_time": "2023-08-09T20:56:15.532486700Z",
     "start_time": "2023-08-09T20:56:15.476238900Z"
    },
    "collapsed": false,
    "execution": {
     "iopub.execute_input": "2023-08-09T21:01:44.825057Z",
     "iopub.status.busy": "2023-08-09T21:01:44.824322Z",
     "iopub.status.idle": "2023-08-09T21:01:44.863338Z",
     "shell.execute_reply": "2023-08-09T21:01:44.862118Z"
    },
    "jupyter": {
     "outputs_hidden": false
    },
    "papermill": {
     "duration": 0.051739,
     "end_time": "2023-08-09T21:01:44.866033",
     "exception": false,
     "start_time": "2023-08-09T21:01:44.814294",
     "status": "completed"
    },
    "tags": []
   },
   "outputs": [],
   "source": [
    "submission.to_csv('submission.csv', index=False)"
   ]
  },
  {
   "cell_type": "code",
   "execution_count": 21,
   "id": "74058d17",
   "metadata": {
    "ExecuteTime": {
     "end_time": "2023-08-09T20:56:15.532486700Z",
     "start_time": "2023-08-09T20:56:15.516451800Z"
    },
    "collapsed": false,
    "execution": {
     "iopub.execute_input": "2023-08-09T21:01:44.884848Z",
     "iopub.status.busy": "2023-08-09T21:01:44.884446Z",
     "iopub.status.idle": "2023-08-09T21:01:44.894032Z",
     "shell.execute_reply": "2023-08-09T21:01:44.893060Z"
    },
    "jupyter": {
     "outputs_hidden": false
    },
    "papermill": {
     "duration": 0.021257,
     "end_time": "2023-08-09T21:01:44.896047",
     "exception": false,
     "start_time": "2023-08-09T21:01:44.874790",
     "status": "completed"
    },
    "tags": []
   },
   "outputs": [
    {
     "data": {
      "text/html": [
       "<div>\n",
       "<style scoped>\n",
       "    .dataframe tbody tr th:only-of-type {\n",
       "        vertical-align: middle;\n",
       "    }\n",
       "\n",
       "    .dataframe tbody tr th {\n",
       "        vertical-align: top;\n",
       "    }\n",
       "\n",
       "    .dataframe thead th {\n",
       "        text-align: right;\n",
       "    }\n",
       "</style>\n",
       "<table border=\"1\" class=\"dataframe\">\n",
       "  <thead>\n",
       "    <tr style=\"text-align: right;\">\n",
       "      <th></th>\n",
       "      <th>id</th>\n",
       "      <th>sentiment</th>\n",
       "    </tr>\n",
       "  </thead>\n",
       "  <tbody>\n",
       "    <tr>\n",
       "      <th>0</th>\n",
       "      <td>12311_10</td>\n",
       "      <td>1</td>\n",
       "    </tr>\n",
       "    <tr>\n",
       "      <th>1</th>\n",
       "      <td>8348_2</td>\n",
       "      <td>1</td>\n",
       "    </tr>\n",
       "    <tr>\n",
       "      <th>2</th>\n",
       "      <td>5828_4</td>\n",
       "      <td>0</td>\n",
       "    </tr>\n",
       "    <tr>\n",
       "      <th>3</th>\n",
       "      <td>7186_2</td>\n",
       "      <td>1</td>\n",
       "    </tr>\n",
       "    <tr>\n",
       "      <th>4</th>\n",
       "      <td>12128_7</td>\n",
       "      <td>0</td>\n",
       "    </tr>\n",
       "  </tbody>\n",
       "</table>\n",
       "</div>"
      ],
      "text/plain": [
       "         id  sentiment\n",
       "0  12311_10          1\n",
       "1    8348_2          1\n",
       "2    5828_4          0\n",
       "3    7186_2          1\n",
       "4   12128_7          0"
      ]
     },
     "execution_count": 21,
     "metadata": {},
     "output_type": "execute_result"
    }
   ],
   "source": [
    "submission.head()"
   ]
  }
 ],
 "metadata": {
  "kernelspec": {
   "display_name": "Python 3",
   "language": "python",
   "name": "python3"
  },
  "language_info": {
   "codemirror_mode": {
    "name": "ipython",
    "version": 3
   },
   "file_extension": ".py",
   "mimetype": "text/x-python",
   "name": "python",
   "nbconvert_exporter": "python",
   "pygments_lexer": "ipython3",
   "version": "3.10.12"
  },
  "papermill": {
   "default_parameters": {},
   "duration": 27.938122,
   "end_time": "2023-08-09T21:01:45.928864",
   "environment_variables": {},
   "exception": null,
   "input_path": "__notebook__.ipynb",
   "output_path": "__notebook__.ipynb",
   "parameters": {},
   "start_time": "2023-08-09T21:01:17.990742",
   "version": "2.4.0"
  }
 },
 "nbformat": 4,
 "nbformat_minor": 5
}
